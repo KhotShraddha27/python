{
  "nbformat": 4,
  "nbformat_minor": 0,
  "metadata": {
    "colab": {
      "provenance": [],
      "authorship_tag": "ABX9TyORAqLWU/EyqYwOl0cWb/L0",
      "include_colab_link": true
    },
    "kernelspec": {
      "name": "python3",
      "display_name": "Python 3"
    },
    "language_info": {
      "name": "python"
    }
  },
  "cells": [
    {
      "cell_type": "markdown",
      "metadata": {
        "id": "view-in-github",
        "colab_type": "text"
      },
      "source": [
        "<a href=\"https://colab.research.google.com/github/KhotShraddha27/python/blob/main/Another_copy_of_Untitled1.ipynb\" target=\"_parent\"><img src=\"https://colab.research.google.com/assets/colab-badge.svg\" alt=\"Open In Colab\"/></a>"
      ]
    },
    {
      "cell_type": "code",
      "execution_count": null,
      "metadata": {
        "colab": {
          "base_uri": "https://localhost:8080/"
        },
        "id": "HYUeFt0Amg_R",
        "outputId": "347fca8d-652d-4c53-dd9e-cb5d0cc31ed0"
      },
      "outputs": [
        {
          "output_type": "stream",
          "name": "stdout",
          "text": [
            "Enter Streetlight number:45\n",
            "Streetlight should be OFF in day \n"
          ]
        }
      ],
      "source": [
        "#2 . Odd or Even Streetlight System\n",
        "\n",
        "Streetlight_number= int(input(\"Enter Streetlight number:\"))\n",
        "if Streetlight_number%2==0:\n",
        "    print(\"Streetlight should be ON at night\")\n",
        "else:\n",
        "    print(\"Streetlight should be OFF in day \")\n"
      ]
    },
    {
      "cell_type": "code",
      "source": [
        "#3. Imagine you are designing a basic ATM-like interface where users can:\n",
        "\n",
        "print(\"## MENU ##\")\n",
        "print(\"1. Check Balance\" )\n",
        "print(\"2. Deposit Money\")\n",
        "print(\"3. Withdraw Money\")\n",
        "print(\"4. Exit the System\")\n",
        "num=int(input(\"Enter your choice:\"))\n",
        "balance=10000\n",
        "if  num == 1:\n",
        "  print(\"Your balance is :\",balance)\n",
        "elif  num == 2:\n",
        "  num1=int(input(\"Enter amount to be deposited: \"))\n",
        "  print(\"Amount of money to be deposited is :\",num1)\n",
        "  print(\"Your cureent balance is :\",(balance+num1))\n",
        "elif  num == 3:\n",
        "  num2=int(input(\"Enter amount to be withdrawed:\"))\n",
        "  print(\"Amount of money to be withdrawed is :\",num2)\n",
        "  print(\"Your cureent balance is :\",(balance-num2))\n",
        "elif  num == 4:\n",
        "  print(\"THANK YOUU!!\")\n",
        "\n"
      ],
      "metadata": {
        "colab": {
          "base_uri": "https://localhost:8080/"
        },
        "id": "oC_sil5HmxsP",
        "outputId": "80cd4746-5977-4787-83c2-bc129a173dbd"
      },
      "execution_count": null,
      "outputs": [
        {
          "output_type": "stream",
          "name": "stdout",
          "text": [
            "## MENU ##\n",
            "1. Check Balance\n",
            "2. Deposit Money\n",
            "3. Withdraw Money\n",
            "4. Exit the System\n",
            "Enter your choice:3\n",
            "Enter amount to be withdrawed:10\n",
            "Amount of money to be withdrawed is : 10\n",
            "Your cureent balance is : 9990\n"
          ]
        }
      ]
    },
    {
      "cell_type": "code",
      "source": [
        "#4. Counting Passengers in a Bus\n",
        "count=0\n",
        "for i  in range (1,6):\n",
        "  print(\"Enter number of passengers:\")\n",
        "  count1 = int(input())\n",
        "  count = count+count1\n",
        "print(\"Total passengers in the bus are :\",count)\n"
      ],
      "metadata": {
        "colab": {
          "base_uri": "https://localhost:8080/"
        },
        "id": "d5QGtCpzqucQ",
        "outputId": "d0d729c1-f3f7-473d-c48d-d32b084e69d0"
      },
      "execution_count": null,
      "outputs": [
        {
          "output_type": "stream",
          "name": "stdout",
          "text": [
            "Enter number of passengers:\n",
            "1\n",
            "Enter number of passengers:\n",
            "1\n",
            "Enter number of passengers:\n",
            "1\n",
            "Enter number of passengers:\n",
            "1\n",
            "Enter number of passengers:\n",
            "1\n",
            "Total passengers in the bus are : 5\n"
          ]
        }
      ]
    },
    {
      "cell_type": "code",
      "source": [
        "#1. Identify the Employee Category\n",
        "Salary above ₹50,000 → \"High Income\"\n",
        "Salary between ₹30,000 and ₹50,000 → \"Medium Income\"\n",
        "Salary below ₹30,000 → \"Low Income\"\n"
      ],
      "metadata": {
        "id": "HGQ_rHNTrG3f"
      },
      "execution_count": null,
      "outputs": []
    },
    {
      "cell_type": "code",
      "source": [
        "#5. ATM PIN Verification\n",
        "\n",
        "for i in range (0,3):\n",
        "  ATM_PIN=int(input(\"Enter your ATM pin:\"))\n",
        "  if ATM_PIN==1234:\n",
        "    print(\"You can gain access\")\n",
        "    break\n",
        "print(\"You can't gain access\")"
      ],
      "metadata": {
        "colab": {
          "base_uri": "https://localhost:8080/"
        },
        "id": "Ln_PuRHHrIXv",
        "outputId": "8d89148f-2a62-4a04-c9a3-742e85498bb9"
      },
      "execution_count": null,
      "outputs": [
        {
          "output_type": "stream",
          "name": "stdout",
          "text": [
            "Enter your ATM pin:123\n",
            "Enter your ATM pin:125\n",
            "Enter your ATM pin:1236\n",
            "You can't gain access\n"
          ]
        }
      ]
    },
    {
      "cell_type": "code",
      "source": [
        "#6. Reverse a Number\n",
        "\n",
        "Num=input(\"Enter number:\")\n",
        "reverse_num=str(Num[::-1])\n",
        "print(reverse_num)\n"
      ],
      "metadata": {
        "colab": {
          "base_uri": "https://localhost:8080/"
        },
        "id": "r_RGeJyYwcpH",
        "outputId": "fa8e5412-6d15-45ab-f27e-0e2f1c163471"
      },
      "execution_count": null,
      "outputs": [
        {
          "output_type": "stream",
          "name": "stdout",
          "text": [
            "Enter number:51\n",
            "15\n"
          ]
        }
      ]
    },
    {
      "cell_type": "code",
      "source": [
        "#7. ATM Cash Dispensing Machine\n",
        "\n",
        "Num=int(input(\"Enter amount to be withdrawed: \"))\n",
        "notes_2000=int(Num/2000)\n",
        "remaining=Num%2000\n",
        "notes_500=remaining/500\n",
        "\n",
        "print(f\"2000 rupees notes:\",notes_2000)\n",
        "print(f\"500 rupees notes:\",notes_500)"
      ],
      "metadata": {
        "colab": {
          "base_uri": "https://localhost:8080/"
        },
        "id": "qAt9-p4fxRWI",
        "outputId": "9f7e9474-2b8e-4d55-f541-6ae40906bfa0"
      },
      "execution_count": null,
      "outputs": [
        {
          "output_type": "stream",
          "name": "stdout",
          "text": [
            "Enter amount to be withdrawed: 500\n",
            "2000 rupees notes: 0\n",
            "500 rupees notes: 1.0\n"
          ]
        }
      ]
    },
    {
      "cell_type": "code",
      "source": [
        "#8. Shopping Cart - List Operations\n",
        "Shopping_cart=[]\n",
        "Shopping_cart=str(input(print(\"Enter item to the cart:\")))\n",
        "if Shopping_cart!=\"Done\" or Shopping_cart!=\"done\":\n",
        "  print(input(\"Enter next item to the cart:\"))\n",
        "else:\n",
        "  print(\"Thank you!!\")\n",
        "print(Shopping_cart)"
      ],
      "metadata": {
        "id": "Le_okky5xzsn",
        "colab": {
          "base_uri": "https://localhost:8080/"
        },
        "outputId": "3158b143-f301-43ed-c13d-4c6398ca37cd"
      },
      "execution_count": null,
      "outputs": [
        {
          "output_type": "stream",
          "name": "stdout",
          "text": [
            "Enter item to the cart:\n",
            "Nonep\n",
            "Enter next item to the cart:p\n",
            "p\n",
            "p\n"
          ]
        }
      ]
    },
    {
      "cell_type": "code",
      "source": [
        "#DAY2 1.Sales Performance Analysis (Highest and Lowest Sales)\n",
        "\n",
        "import numpy as np\n",
        "a=np.array([5000,7000,8000,6500,7200,9000,8500])\n",
        "largest_salary=np.amax(a)\n",
        "smallest_salary=np.amin(a)\n",
        "print(\"Largest salary is \",largest_salary)\n",
        "print(\"Samllest salary is \",smallest_salary)\n"
      ],
      "metadata": {
        "colab": {
          "base_uri": "https://localhost:8080/"
        },
        "id": "7-VlLfw9yONG",
        "outputId": "0b2d4964-3594-4d8c-9359-10db081b9fd7"
      },
      "execution_count": null,
      "outputs": [
        {
          "output_type": "stream",
          "name": "stdout",
          "text": [
            "Largest salary is  9000\n",
            "Samllest salary is  5000\n"
          ]
        }
      ]
    },
    {
      "cell_type": "code",
      "source": [
        "# prompt: #2.Reshape a 1D Array into 2D Array\n",
        "\n",
        "import numpy as np\n",
        "\n",
        "# Reshape a 1D array into a 2D array\n",
        "arr_1d = np.array([1, 2, 3, 4, 5, 6])\n",
        "arr_2d = arr_1d.reshape(2, 3)  # Reshape into a 2x3 array\n",
        "print(\"Original 1D array:\", arr_1d)\n",
        "print(\"Reshaped 2D array:\\n\", arr_2d)\n"
      ],
      "metadata": {
        "id": "vpXWEIYa6TM3"
      },
      "execution_count": null,
      "outputs": []
    },
    {
      "cell_type": "code",
      "source": [
        "#2.Reshape a 1D Array into 2D Array\n",
        "import numpy as np\n",
        "a=np.array([1,2,3,4,5,6])\n",
        "print(\"Before reshapping : \",a)\n",
        "a=a.reshape(6,1)\n",
        "print(\"After reshaping :\",a)\n"
      ],
      "metadata": {
        "colab": {
          "base_uri": "https://localhost:8080/"
        },
        "id": "d0cox2EN6lKN",
        "outputId": "421be354-8540-4f4e-ac0a-983a9d22af33"
      },
      "execution_count": null,
      "outputs": [
        {
          "output_type": "stream",
          "name": "stdout",
          "text": [
            "Before reshapping :  [1 2 3 4 5 6]\n",
            "After reshaping : [[1]\n",
            " [2]\n",
            " [3]\n",
            " [4]\n",
            " [5]\n",
            " [6]]\n"
          ]
        }
      ]
    }
  ]
}